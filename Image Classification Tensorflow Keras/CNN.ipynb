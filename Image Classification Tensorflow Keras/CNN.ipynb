{
  "nbformat": 4,
  "nbformat_minor": 0,
  "metadata": {
    "colab": {
      "provenance": []
    },
    "kernelspec": {
      "name": "python3",
      "display_name": "Python 3"
    },
    "language_info": {
      "name": "python"
    }
  },
  "cells": [
    {
      "cell_type": "markdown",
      "source": [
        "## Importing Libraries"
      ],
      "metadata": {
        "id": "RCG5HLebE85u"
      }
    },
    {
      "cell_type": "code",
      "source": [
        "import tensorflow as tf\n",
        "import os\n",
        "import numpy as np\n",
        "\n",
        "from matplotlib import pyplot as plt\n",
        "%matplotlib inline\n",
        "\n",
        "print(\"Tensorflow version:\", tf.version.VERSION)"
      ],
      "metadata": {
        "colab": {
          "base_uri": "https://localhost:8080/",
          "height": 0
        },
        "id": "LSDZ_VhlFEa9",
        "outputId": "5a01daad-1350-43bb-f739-65768dcb4b58"
      },
      "execution_count": 2,
      "outputs": [
        {
          "output_type": "stream",
          "name": "stdout",
          "text": [
            "Tensorflow version: 2.12.0\n"
          ]
        }
      ]
    },
    {
      "cell_type": "markdown",
      "source": [
        "## Preprocessing Data"
      ],
      "metadata": {
        "id": "05gymXGSFRJN"
      }
    },
    {
      "cell_type": "code",
      "source": [
        "(X_train, y_train), (X_test, y_test) = tf.keras.datasets.mnist.load_data()\n",
        "\n",
        "print(X_train.shape, y_train.shape)"
      ],
      "metadata": {
        "colab": {
          "base_uri": "https://localhost:8080/",
          "height": 0
        },
        "id": "b96RVPyRFXNm",
        "outputId": "954c9008-62be-470f-8791-5022e2fe46fb"
      },
      "execution_count": 6,
      "outputs": [
        {
          "output_type": "stream",
          "name": "stdout",
          "text": [
            "(60000, 28, 28) (60000,)\n"
          ]
        }
      ]
    },
    {
      "cell_type": "code",
      "source": [
        "y_train = tf.keras.utils.to_categorical(y_train)\n",
        "y_test = tf.keras.utils.to_categorical(y_test)\n",
        "\n",
        "print(y_train.shape)\n",
        "print(y_test.shape)"
      ],
      "metadata": {
        "colab": {
          "base_uri": "https://localhost:8080/",
          "height": 0
        },
        "id": "LaVEU6LSFmdl",
        "outputId": "0493d215-b034-4237-92ae-1ddbfdddc476"
      },
      "execution_count": 8,
      "outputs": [
        {
          "output_type": "stream",
          "name": "stdout",
          "text": [
            "(60000, 10)\n",
            "(10000, 10)\n"
          ]
        }
      ]
    },
    {
      "cell_type": "markdown",
      "source": [
        "## Creating Model"
      ],
      "metadata": {
        "id": "HJeD1Cc-FzfQ"
      }
    },
    {
      "cell_type": "code",
      "source": [
        "def convBlock(num_filters):\n",
        "    return tf.keras.models.Sequential([\n",
        "        tf.keras.layers.Conv2D(num_filters,\n",
        "                            kernel_size=3,\n",
        "                            padding='same',\n",
        "                            activation='relu'),\n",
        "        tf.keras.layers.BatchNormalization(),\n",
        "        tf.keras.layers.Conv2D(num_filters,\n",
        "                            kernel_size=3, \n",
        "                            activation='relu'),\n",
        "        tf.keras.layers.MaxPooling2D(pool_size=2),\n",
        "        tf.keras.layers.Dropout(rate=0.2),\n",
        "    ])\n",
        "\n",
        "model = tf.keras.models.Sequential([\n",
        "    tf.keras.layers.Input(shape=(28, 28, 1)),\n",
        "    convBlock(num_filters=32),\n",
        "    convBlock(num_filters=64),\n",
        "    convBlock(num_filters=128),\n",
        "    tf.keras.layers.Flatten(),\n",
        "    tf.keras.layers.Dense(10, activation='softmax')\n",
        "])\n",
        "\n",
        "model.compile(\n",
        "    loss='categorical_crossentropy',\n",
        "    optimizer='adam',\n",
        "    metrics=['accuracy']\n",
        ")"
      ],
      "metadata": {
        "id": "yFwBT_dQF2yj"
      },
      "execution_count": 25,
      "outputs": []
    },
    {
      "cell_type": "code",
      "source": [
        "model.summary(expand_nested=True)"
      ],
      "metadata": {
        "colab": {
          "base_uri": "https://localhost:8080/",
          "height": 0
        },
        "id": "hNokfxf-F5AD",
        "outputId": "4c44a33f-8db8-4815-e72c-81209667fa45"
      },
      "execution_count": 26,
      "outputs": [
        {
          "output_type": "stream",
          "name": "stdout",
          "text": [
            "Model: \"sequential_25\"\n",
            "_________________________________________________________________\n",
            " Layer (type)                Output Shape              Param #   \n",
            "=================================================================\n",
            " sequential_23 (Sequential)  (None, 13, 13, 16)        2544      \n",
            "|¯¯¯¯¯¯¯¯¯¯¯¯¯¯¯¯¯¯¯¯¯¯¯¯¯¯¯¯¯¯¯¯¯¯¯¯¯¯¯¯¯¯¯¯¯¯¯¯¯¯¯¯¯¯¯¯¯¯¯¯¯¯¯|\n",
            "| conv2d_34 (Conv2D)        (None, 28, 28, 16)        160       |\n",
            "|                                                               |\n",
            "| batch_normalization_17 (Bat  (None, 28, 28, 16)     64        |\n",
            "| chNormalization)                                              |\n",
            "|                                                               |\n",
            "| conv2d_35 (Conv2D)        (None, 26, 26, 16)        2320      |\n",
            "|                                                               |\n",
            "| max_pooling2d_17 (MaxPoolin  (None, 13, 13, 16)     0         |\n",
            "| g2D)                                                          |\n",
            "|                                                               |\n",
            "| dropout_17 (Dropout)      (None, 13, 13, 16)        0         |\n",
            "¯¯¯¯¯¯¯¯¯¯¯¯¯¯¯¯¯¯¯¯¯¯¯¯¯¯¯¯¯¯¯¯¯¯¯¯¯¯¯¯¯¯¯¯¯¯¯¯¯¯¯¯¯¯¯¯¯¯¯¯¯¯¯¯¯\n",
            " sequential_24 (Sequential)  (None, 5, 5, 32)          14016     \n",
            "|¯¯¯¯¯¯¯¯¯¯¯¯¯¯¯¯¯¯¯¯¯¯¯¯¯¯¯¯¯¯¯¯¯¯¯¯¯¯¯¯¯¯¯¯¯¯¯¯¯¯¯¯¯¯¯¯¯¯¯¯¯¯¯|\n",
            "| conv2d_36 (Conv2D)        (None, 13, 13, 32)        4640      |\n",
            "|                                                               |\n",
            "| batch_normalization_18 (Bat  (None, 13, 13, 32)     128       |\n",
            "| chNormalization)                                              |\n",
            "|                                                               |\n",
            "| conv2d_37 (Conv2D)        (None, 11, 11, 32)        9248      |\n",
            "|                                                               |\n",
            "| max_pooling2d_18 (MaxPoolin  (None, 5, 5, 32)       0         |\n",
            "| g2D)                                                          |\n",
            "|                                                               |\n",
            "| dropout_18 (Dropout)      (None, 5, 5, 32)          0         |\n",
            "¯¯¯¯¯¯¯¯¯¯¯¯¯¯¯¯¯¯¯¯¯¯¯¯¯¯¯¯¯¯¯¯¯¯¯¯¯¯¯¯¯¯¯¯¯¯¯¯¯¯¯¯¯¯¯¯¯¯¯¯¯¯¯¯¯\n",
            " flatten_6 (Flatten)         (None, 800)               0         \n",
            "                                                                 \n",
            " dense_6 (Dense)             (None, 10)                8010      \n",
            "                                                                 \n",
            "=================================================================\n",
            "Total params: 24,570\n",
            "Trainable params: 24,474\n",
            "Non-trainable params: 96\n",
            "_________________________________________________________________\n"
          ]
        }
      ]
    },
    {
      "cell_type": "code",
      "source": [
        "X_train = X_train / 255.\n",
        "X_test = X_test / 255.\n",
        "\n",
        "\n",
        "history = model.fit(X_train,\n",
        "                    y_train,\n",
        "                    validation_data=(X_test, y_test),\n",
        "                    epochs=10,\n",
        "                    batch_size=128,\n",
        "                    callbacks=[\n",
        "                        tf.keras.callbacks.EarlyStopping(monitor='val_loss',\n",
        "                                                         patience=3),\n",
        "                        tf.keras.callbacks.ModelCheckpoint('model_{val_accuracy:.3f}.h5',\n",
        "                                                           save_best_only=True,\n",
        "                                                           save_weights_only=False,\n",
        "                                                           monitor='val_accuracy')\n",
        "                    ])"
      ],
      "metadata": {
        "id": "wg0ThFuNIPo4"
      },
      "execution_count": null,
      "outputs": []
    },
    {
      "cell_type": "code",
      "source": [
        "import pandas as pd\n",
        "\n",
        "pd.DataFrame(history.history).plot(figsize=(6, 4))"
      ],
      "metadata": {
        "id": "PU94tIMLJNtw"
      },
      "execution_count": null,
      "outputs": []
    }
  ]
}