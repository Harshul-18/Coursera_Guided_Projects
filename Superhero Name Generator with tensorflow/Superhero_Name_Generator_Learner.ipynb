{
  "cells": [
    {
      "cell_type": "markdown",
      "metadata": {
        "id": "21XXWP7Fpt2L"
      },
      "source": [
        "# Superhero (and Supervillain) Name Generator\n",
        "\n",
        "---\n",
        "\n",
        "[Superhero Names Dataset](https://github.com/am1tyadav/superhero)"
      ]
    },
    {
      "cell_type": "markdown",
      "metadata": {
        "id": "H6P0NU5Cpt2R"
      },
      "source": [
        "## Task 2\n",
        "\n",
        "1. Import the data\n",
        "2. Create a tokenizer\n",
        "3. Char to index and Index to char dictionaries"
      ]
    },
    {
      "cell_type": "code",
      "execution_count": 1,
      "metadata": {
        "colab": {
          "base_uri": "https://localhost:8080/"
        },
        "id": "srULhalZpt2M",
        "outputId": "6b262295-8253-4a9d-9605-35514e3907e4"
      },
      "outputs": [
        {
          "output_type": "stream",
          "name": "stdout",
          "text": [
            "Cloning into 'superhero'...\n",
            "remote: Enumerating objects: 8, done.\u001b[K\n",
            "remote: Counting objects: 100% (8/8), done.\u001b[K\n",
            "remote: Compressing objects: 100% (7/7), done.\u001b[K\n",
            "remote: Total 8 (delta 0), reused 4 (delta 0), pack-reused 0\u001b[K\n",
            "Unpacking objects: 100% (8/8), 47.06 KiB | 1.68 MiB/s, done.\n"
          ]
        }
      ],
      "source": [
        "!git clone https://github.com/am1tyadav/superhero"
      ]
    },
    {
      "cell_type": "code",
      "execution_count": 5,
      "metadata": {
        "colab": {
          "base_uri": "https://localhost:8080/"
        },
        "id": "uq4CLmsLpt2P",
        "outputId": "2e13ddc4-e91e-44fa-f5c8-bedee0345970"
      },
      "outputs": [
        {
          "output_type": "stream",
          "name": "stdout",
          "text": [
            "jumpa\t\n",
            "doctor fate\t\n",
            "starlight\t\n",
            "isildur\t\n",
            "lasher\t\n",
            "varvara\t\n",
            "the target\t\n",
            "axel\t\n",
            "battra\t\n",
            "changeling\t\n",
            "\n"
          ]
        }
      ],
      "source": [
        "with open('superhero/superheroes.txt') as file:\n",
        "    data = file.read()\n",
        "\n",
        "print(data[:95])"
      ]
    },
    {
      "cell_type": "code",
      "execution_count": 6,
      "metadata": {
        "colab": {
          "base_uri": "https://localhost:8080/"
        },
        "id": "JqhtLuAHpt2R",
        "outputId": "39f0462a-6de6-46b3-c92c-5fcf682eb867"
      },
      "outputs": [
        {
          "output_type": "stream",
          "name": "stdout",
          "text": [
            "2.12.0\n"
          ]
        }
      ],
      "source": [
        "import tensorflow as tf\n",
        "print(tf.version.VERSION)"
      ]
    },
    {
      "cell_type": "code",
      "source": [
        "# a = data.split('\\n')"
      ],
      "metadata": {
        "id": "8VQrk4hZVIdV"
      },
      "execution_count": 17,
      "outputs": []
    },
    {
      "cell_type": "code",
      "execution_count": 53,
      "metadata": {
        "id": "95Lo1Yqzpt2T"
      },
      "outputs": [],
      "source": [
        "tokenizer = tf.keras.preprocessing.text.Tokenizer(\n",
        "    filters='!\"#$%&()*+,-./:;<=>?@[\\\\]^_`{|}~',\n",
        "    split='\\n',\n",
        ")"
      ]
    },
    {
      "cell_type": "code",
      "execution_count": 54,
      "metadata": {
        "id": "qYfC4sj2pt2V"
      },
      "outputs": [],
      "source": [
        "tokenizer.fit_on_texts(data)"
      ]
    },
    {
      "cell_type": "code",
      "execution_count": 55,
      "metadata": {
        "colab": {
          "base_uri": "https://localhost:8080/"
        },
        "id": "EO4-dPM6pt2X",
        "outputId": "3f526fe4-895d-4f1c-f300-e3282be25136"
      },
      "outputs": [
        {
          "output_type": "stream",
          "name": "stdout",
          "text": [
            "{1: '\\t', 2: 'a', 3: 'e', 4: 'r', 5: 'o', 6: 'n', 7: 'i', 8: ' ', 9: 't', 10: 's', 11: 'l', 12: 'm', 13: 'h', 14: 'd', 15: 'c', 16: 'u', 17: 'g', 18: 'k', 19: 'b', 20: 'p', 21: 'y', 22: 'w', 23: 'f', 24: 'v', 25: 'j', 26: 'z', 27: 'x', 28: 'q'}\n"
          ]
        }
      ],
      "source": [
        "char_to_index = tokenizer.word_index\n",
        "index_to_char = dict((v, k) for k, v in char_to_index.items())\n",
        "\n",
        "print(index_to_char)"
      ]
    },
    {
      "cell_type": "code",
      "source": [
        "print(len(char_to_index))"
      ],
      "metadata": {
        "id": "RIVc7tzEUXCL",
        "outputId": "ef00cb32-709b-4f2b-8ed1-5b1d50714628",
        "colab": {
          "base_uri": "https://localhost:8080/"
        }
      },
      "execution_count": 56,
      "outputs": [
        {
          "output_type": "stream",
          "name": "stdout",
          "text": [
            "28\n"
          ]
        }
      ]
    },
    {
      "cell_type": "markdown",
      "metadata": {
        "id": "SMwtIw_Bpt2Z"
      },
      "source": [
        "## Task 3\n",
        "\n",
        "1. Converting between names and sequences"
      ]
    },
    {
      "cell_type": "code",
      "execution_count": 57,
      "metadata": {
        "colab": {
          "base_uri": "https://localhost:8080/"
        },
        "id": "N7iQLIXzpt2a",
        "outputId": "39691508-f64b-4d1f-f001-800ce3edccff"
      },
      "outputs": [
        {
          "output_type": "execute_result",
          "data": {
            "text/plain": [
              "['jumpa\\t',\n",
              " 'doctor fate\\t',\n",
              " 'starlight\\t',\n",
              " 'isildur\\t',\n",
              " 'lasher\\t',\n",
              " 'varvara\\t',\n",
              " 'the target\\t',\n",
              " 'axel\\t',\n",
              " 'battra\\t',\n",
              " 'changeling\\t']"
            ]
          },
          "metadata": {},
          "execution_count": 57
        }
      ],
      "source": [
        "names = data.split('\\n')\n",
        "names[:10]"
      ]
    },
    {
      "cell_type": "code",
      "execution_count": 58,
      "metadata": {
        "colab": {
          "base_uri": "https://localhost:8080/"
        },
        "id": "n_-TTfqipt2c",
        "outputId": "b90da73d-d88f-4ff7-8e7a-ee96bdb5d147"
      },
      "outputs": [
        {
          "output_type": "execute_result",
          "data": {
            "text/plain": [
              "[[25], [16], [12], [20], [2], [1]]"
            ]
          },
          "metadata": {},
          "execution_count": 58
        }
      ],
      "source": [
        "tokenizer.texts_to_sequences(names[0])"
      ]
    },
    {
      "cell_type": "code",
      "execution_count": 59,
      "metadata": {
        "id": "P6IsKH1Upt2e"
      },
      "outputs": [],
      "source": [
        "def name_to_seq(name):\n",
        "    return [tokenizer.texts_to_sequences(c)[0][0] for c in name]"
      ]
    },
    {
      "cell_type": "code",
      "execution_count": 60,
      "metadata": {
        "colab": {
          "base_uri": "https://localhost:8080/"
        },
        "id": "TuLUiMP3pt2g",
        "outputId": "8d15c95f-1153-4dcf-b425-fa0ae375de62"
      },
      "outputs": [
        {
          "output_type": "execute_result",
          "data": {
            "text/plain": [
              "[25, 16, 12, 20, 2, 1]"
            ]
          },
          "metadata": {},
          "execution_count": 60
        }
      ],
      "source": [
        "name_to_seq(names[0])"
      ]
    },
    {
      "cell_type": "code",
      "execution_count": 61,
      "metadata": {
        "id": "yFUYhimKpt2h"
      },
      "outputs": [],
      "source": [
        "def seq_to_name(seq):\n",
        "    return ''.join([index_to_char[i] for i in seq if i != 0])"
      ]
    },
    {
      "cell_type": "code",
      "execution_count": 62,
      "metadata": {
        "colab": {
          "base_uri": "https://localhost:8080/",
          "height": 35
        },
        "id": "ROhCqmhLpt2k",
        "outputId": "1e426435-6597-4e63-d5a9-aff0046d6b8c"
      },
      "outputs": [
        {
          "output_type": "execute_result",
          "data": {
            "text/plain": [
              "'jumpa\\t'"
            ],
            "application/vnd.google.colaboratory.intrinsic+json": {
              "type": "string"
            }
          },
          "metadata": {},
          "execution_count": 62
        }
      ],
      "source": [
        "seq_to_name(name_to_seq(names[0]))"
      ]
    },
    {
      "cell_type": "markdown",
      "metadata": {
        "id": "uCbAzsNjpt2m"
      },
      "source": [
        "## Task 4\n",
        "\n",
        "1. Creating sequences\n",
        "2. Padding all sequences"
      ]
    },
    {
      "cell_type": "code",
      "execution_count": 63,
      "metadata": {
        "id": "zstNn-0dpt2m"
      },
      "outputs": [],
      "source": [
        "sequences = []\n",
        "\n",
        "for name in names:\n",
        "    seq = name_to_seq(name)\n",
        "    if len(seq) >= 2:\n",
        "        sequences += [seq[:i] for i in range(2, len(seq)+1)]"
      ]
    },
    {
      "cell_type": "code",
      "execution_count": 64,
      "metadata": {
        "colab": {
          "base_uri": "https://localhost:8080/"
        },
        "id": "BjRTMysvpt2o",
        "outputId": "4c3e73ee-bbde-423e-a240-69fd2732d049"
      },
      "outputs": [
        {
          "output_type": "execute_result",
          "data": {
            "text/plain": [
              "[[25, 16],\n",
              " [25, 16, 12],\n",
              " [25, 16, 12, 20],\n",
              " [25, 16, 12, 20, 2],\n",
              " [25, 16, 12, 20, 2, 1],\n",
              " [14, 5],\n",
              " [14, 5, 15],\n",
              " [14, 5, 15, 9],\n",
              " [14, 5, 15, 9, 5],\n",
              " [14, 5, 15, 9, 5, 4]]"
            ]
          },
          "metadata": {},
          "execution_count": 64
        }
      ],
      "source": [
        "sequences[:10]"
      ]
    },
    {
      "cell_type": "code",
      "execution_count": 65,
      "metadata": {
        "colab": {
          "base_uri": "https://localhost:8080/"
        },
        "id": "SR68pu2tpt2q",
        "outputId": "0d4a19d9-2044-4a93-e105-6815e660b377"
      },
      "outputs": [
        {
          "output_type": "execute_result",
          "data": {
            "text/plain": [
              "33"
            ]
          },
          "metadata": {},
          "execution_count": 65
        }
      ],
      "source": [
        "max_len = max([len(x) for x in sequences])\n",
        "max_len"
      ]
    },
    {
      "cell_type": "code",
      "execution_count": 66,
      "metadata": {
        "colab": {
          "base_uri": "https://localhost:8080/"
        },
        "id": "h_1BtWO7pt2r",
        "outputId": "ed547892-368e-4708-f1d9-00a549505774"
      },
      "outputs": [
        {
          "output_type": "stream",
          "name": "stdout",
          "text": [
            "[ 0  0  0  0  0  0  0  0  0  0  0  0  0  0  0  0  0  0  0  0  0  0  0  0\n",
            "  0  0  0  0  0  0  0 25 16]\n"
          ]
        }
      ],
      "source": [
        "padded_sequences = tf.keras.preprocessing.sequence.pad_sequences(\n",
        "    sequences,\n",
        "    padding='pre',\n",
        "    maxlen=max_len,\n",
        ")\n",
        "\n",
        "print(padded_sequences[0])"
      ]
    },
    {
      "cell_type": "code",
      "execution_count": 67,
      "metadata": {
        "colab": {
          "base_uri": "https://localhost:8080/"
        },
        "id": "sPlrLRpSpt2t",
        "outputId": "90809db4-8572-45d8-b481-9ce47e10dd7f"
      },
      "outputs": [
        {
          "output_type": "execute_result",
          "data": {
            "text/plain": [
              "(88279, 33)"
            ]
          },
          "metadata": {},
          "execution_count": 67
        }
      ],
      "source": [
        "padded_sequences.shape"
      ]
    },
    {
      "cell_type": "markdown",
      "metadata": {
        "id": "wCtSx2GLTAcw"
      },
      "source": [
        "## Task 5: Creating Training and Validation Sets\n",
        "\n",
        "1. Creating training and validation sets"
      ]
    },
    {
      "cell_type": "code",
      "execution_count": 68,
      "metadata": {
        "colab": {
          "base_uri": "https://localhost:8080/"
        },
        "id": "BE4BIeSnpt2v",
        "outputId": "83096b33-a5da-448c-c423-c3f992422f84"
      },
      "outputs": [
        {
          "output_type": "execute_result",
          "data": {
            "text/plain": [
              "((88279, 32), (88279,))"
            ]
          },
          "metadata": {},
          "execution_count": 68
        }
      ],
      "source": [
        "X, y = padded_sequences[:, :-1], padded_sequences[:, -1]\n",
        "\n",
        "X.shape, y.shape"
      ]
    },
    {
      "cell_type": "code",
      "execution_count": 70,
      "metadata": {
        "id": "xcbcuASTTAcx",
        "outputId": "75f2ea0e-2cf3-4280-855c-6d26e0e51532",
        "colab": {
          "base_uri": "https://localhost:8080/"
        }
      },
      "outputs": [
        {
          "output_type": "stream",
          "name": "stdout",
          "text": [
            "(70623, 32) (70623,)\n",
            "(17656, 32) (17656,)\n"
          ]
        }
      ],
      "source": [
        "from sklearn.model_selection import train_test_split\n",
        "\n",
        "X_train, X_test, y_train, y_test = train_test_split(X, y, test_size=0.2)\n",
        "\n",
        "print(X_train.shape, y_train.shape)\n",
        "print(X_test.shape, y_test.shape)"
      ]
    },
    {
      "cell_type": "code",
      "execution_count": 71,
      "metadata": {
        "colab": {
          "base_uri": "https://localhost:8080/"
        },
        "id": "cgqRZtqnpt2x",
        "outputId": "7acd8acf-96c4-46d5-cecc-3c0a03db6042"
      },
      "outputs": [
        {
          "output_type": "stream",
          "name": "stdout",
          "text": [
            "29\n"
          ]
        }
      ],
      "source": [
        "num_chars = len(char_to_index.keys()) + 1\n",
        "print(num_chars)"
      ]
    },
    {
      "cell_type": "markdown",
      "metadata": {
        "id": "IheJuaQoTAcx"
      },
      "source": [
        "## Task 6: Creating the Model"
      ]
    },
    {
      "cell_type": "code",
      "execution_count": 73,
      "metadata": {
        "id": "m5J7JTIrTAcx",
        "outputId": "acfb373a-8ba6-48f9-8f59-a41ad8aa890b",
        "colab": {
          "base_uri": "https://localhost:8080/"
        }
      },
      "outputs": [
        {
          "output_type": "stream",
          "name": "stdout",
          "text": [
            "Model: \"sequential_1\"\n",
            "_________________________________________________________________\n",
            " Layer (type)                Output Shape              Param #   \n",
            "=================================================================\n",
            " embedding_1 (Embedding)     (None, 32, 8)             232       \n",
            "                                                                 \n",
            " conv1d_1 (Conv1D)           (None, 32, 64)            2624      \n",
            "                                                                 \n",
            " max_pooling1d_1 (MaxPooling  (None, 16, 64)           0         \n",
            " 1D)                                                             \n",
            "                                                                 \n",
            " bidirectional (Bidirectiona  (None, 16, 64)           24832     \n",
            " l)                                                              \n",
            "                                                                 \n",
            " lstm_2 (LSTM)               (None, 32)                12416     \n",
            "                                                                 \n",
            " dense_1 (Dense)             (None, 29)                957       \n",
            "                                                                 \n",
            "=================================================================\n",
            "Total params: 41,061\n",
            "Trainable params: 41,061\n",
            "Non-trainable params: 0\n",
            "_________________________________________________________________\n"
          ]
        }
      ],
      "source": [
        "model = tf.keras.models.Sequential([\n",
        "    tf.keras.layers.Embedding(input_dim=num_chars,\n",
        "                              output_dim=8,\n",
        "                              input_length=max_len-1),\n",
        "    tf.keras.layers.Conv1D(64, 5, strides=1, activation='tanh', padding='causal'),\n",
        "    tf.keras.layers.MaxPool1D(pool_size=2),\n",
        "    tf.keras.layers.Bidirectional(\n",
        "        tf.keras.layers.LSTM(32, return_sequences=True)\n",
        "    ),\n",
        "    tf.keras.layers.LSTM(32),\n",
        "    tf.keras.layers.Dense(num_chars, activation='softmax'),\n",
        "])\n",
        "\n",
        "model.compile(\n",
        "    loss='sparse_categorical_crossentropy',\n",
        "    optimizer='adam',\n",
        "    metrics=['accuracy'],\n",
        ")\n",
        "\n",
        "model.summary()"
      ]
    },
    {
      "cell_type": "markdown",
      "metadata": {
        "id": "6Irbq0XfTAcx"
      },
      "source": [
        "## Task 7: Training the Model"
      ]
    },
    {
      "cell_type": "code",
      "execution_count": 74,
      "metadata": {
        "colab": {
          "base_uri": "https://localhost:8080/"
        },
        "id": "j0Ssl4qupt22",
        "outputId": "d2fc3d5c-764c-4c4e-bd70-e437ec073920"
      },
      "outputs": [
        {
          "output_type": "stream",
          "name": "stdout",
          "text": [
            "Epoch 1/50\n",
            "2207/2207 [==============================] - 41s 11ms/step - loss: 2.7458 - accuracy: 0.1862 - val_loss: 2.5850 - val_accuracy: 0.2184\n",
            "Epoch 2/50\n",
            "2207/2207 [==============================] - 34s 16ms/step - loss: 2.5515 - accuracy: 0.2299 - val_loss: 2.5013 - val_accuracy: 0.2421\n",
            "Epoch 3/50\n",
            "2207/2207 [==============================] - 29s 13ms/step - loss: 2.4723 - accuracy: 0.2549 - val_loss: 2.4291 - val_accuracy: 0.2672\n",
            "Epoch 4/50\n",
            "2207/2207 [==============================] - 22s 10ms/step - loss: 2.4106 - accuracy: 0.2726 - val_loss: 2.3882 - val_accuracy: 0.2788\n",
            "Epoch 5/50\n",
            "2207/2207 [==============================] - 26s 12ms/step - loss: 2.3663 - accuracy: 0.2838 - val_loss: 2.3523 - val_accuracy: 0.2855\n",
            "Epoch 6/50\n",
            "2207/2207 [==============================] - 29s 13ms/step - loss: 2.3272 - accuracy: 0.2967 - val_loss: 2.3266 - val_accuracy: 0.2967\n",
            "Epoch 7/50\n",
            "2207/2207 [==============================] - 26s 12ms/step - loss: 2.2895 - accuracy: 0.3074 - val_loss: 2.3033 - val_accuracy: 0.3052\n",
            "Epoch 8/50\n",
            "2207/2207 [==============================] - 25s 12ms/step - loss: 2.2546 - accuracy: 0.3176 - val_loss: 2.2731 - val_accuracy: 0.3167\n",
            "Epoch 9/50\n",
            "2207/2207 [==============================] - 33s 15ms/step - loss: 2.2215 - accuracy: 0.3284 - val_loss: 2.2567 - val_accuracy: 0.3239\n",
            "Epoch 10/50\n",
            "2207/2207 [==============================] - 28s 13ms/step - loss: 2.1924 - accuracy: 0.3378 - val_loss: 2.2405 - val_accuracy: 0.3251\n",
            "Epoch 11/50\n",
            "2207/2207 [==============================] - 25s 11ms/step - loss: 2.1656 - accuracy: 0.3455 - val_loss: 2.2218 - val_accuracy: 0.3327\n",
            "Epoch 12/50\n",
            "2207/2207 [==============================] - 22s 10ms/step - loss: 2.1385 - accuracy: 0.3541 - val_loss: 2.2094 - val_accuracy: 0.3428\n",
            "Epoch 13/50\n",
            "2207/2207 [==============================] - 23s 10ms/step - loss: 2.1137 - accuracy: 0.3619 - val_loss: 2.1938 - val_accuracy: 0.3487\n",
            "Epoch 14/50\n",
            "2207/2207 [==============================] - 22s 10ms/step - loss: 2.0881 - accuracy: 0.3696 - val_loss: 2.1845 - val_accuracy: 0.3489\n",
            "Epoch 15/50\n",
            "2207/2207 [==============================] - 23s 10ms/step - loss: 2.0644 - accuracy: 0.3783 - val_loss: 2.1738 - val_accuracy: 0.3534\n",
            "Epoch 16/50\n",
            "2207/2207 [==============================] - 22s 10ms/step - loss: 2.0425 - accuracy: 0.3842 - val_loss: 2.1674 - val_accuracy: 0.3578\n",
            "Epoch 17/50\n",
            "2207/2207 [==============================] - 22s 10ms/step - loss: 2.0218 - accuracy: 0.3907 - val_loss: 2.1606 - val_accuracy: 0.3590\n",
            "Epoch 18/50\n",
            "2207/2207 [==============================] - 22s 10ms/step - loss: 2.0025 - accuracy: 0.3987 - val_loss: 2.1534 - val_accuracy: 0.3669\n",
            "Epoch 19/50\n",
            "2207/2207 [==============================] - 21s 10ms/step - loss: 1.9840 - accuracy: 0.4030 - val_loss: 2.1483 - val_accuracy: 0.3708\n",
            "Epoch 20/50\n",
            "2207/2207 [==============================] - 22s 10ms/step - loss: 1.9634 - accuracy: 0.4094 - val_loss: 2.1521 - val_accuracy: 0.3676\n",
            "Epoch 21/50\n",
            "2207/2207 [==============================] - 22s 10ms/step - loss: 1.9476 - accuracy: 0.4155 - val_loss: 2.1409 - val_accuracy: 0.3748\n",
            "Epoch 22/50\n",
            "2207/2207 [==============================] - 22s 10ms/step - loss: 1.9323 - accuracy: 0.4189 - val_loss: 2.1440 - val_accuracy: 0.3718\n",
            "Epoch 23/50\n",
            "2207/2207 [==============================] - 22s 10ms/step - loss: 1.9171 - accuracy: 0.4234 - val_loss: 2.1459 - val_accuracy: 0.3755\n",
            "Epoch 24/50\n",
            "2207/2207 [==============================] - 22s 10ms/step - loss: 1.9019 - accuracy: 0.4299 - val_loss: 2.1409 - val_accuracy: 0.3758\n",
            "Epoch 25/50\n",
            "2207/2207 [==============================] - 22s 10ms/step - loss: 1.8861 - accuracy: 0.4358 - val_loss: 2.1398 - val_accuracy: 0.3795\n",
            "Epoch 26/50\n",
            "2207/2207 [==============================] - 22s 10ms/step - loss: 1.8733 - accuracy: 0.4379 - val_loss: 2.1484 - val_accuracy: 0.3765\n",
            "Epoch 27/50\n",
            "2207/2207 [==============================] - 22s 10ms/step - loss: 1.8592 - accuracy: 0.4422 - val_loss: 2.1499 - val_accuracy: 0.3757\n",
            "Epoch 28/50\n",
            "2207/2207 [==============================] - 22s 10ms/step - loss: 1.8518 - accuracy: 0.4442 - val_loss: 2.1529 - val_accuracy: 0.3791\n"
          ]
        }
      ],
      "source": [
        "history = model.fit(\n",
        "    X_train,\n",
        "    y_train,\n",
        "    validation_data=(X_test, y_test),\n",
        "    epochs=50,\n",
        "    callbacks=[\n",
        "        tf.keras.callbacks.EarlyStopping(monitor='val_accuracy',\n",
        "                                         patience=3)\n",
        "    ]\n",
        ")"
      ]
    },
    {
      "cell_type": "code",
      "source": [
        "import pandas as pd\n",
        "\n",
        "pd.DataFrame(history.history).plot(figsize=(4, 4))"
      ],
      "metadata": {
        "id": "mq3rEd0abG4q",
        "outputId": "1d4287fa-39ed-4aad-80e3-ae15cea4278b",
        "colab": {
          "base_uri": "https://localhost:8080/",
          "height": 386
        }
      },
      "execution_count": 75,
      "outputs": [
        {
          "output_type": "execute_result",
          "data": {
            "text/plain": [
              "<Axes: >"
            ]
          },
          "metadata": {},
          "execution_count": 75
        },
        {
          "output_type": "display_data",
          "data": {
            "text/plain": [
              "<Figure size 400x400 with 1 Axes>"
            ],
            "image/png": "[encoded data removed]"
          },
          "metadata": {}
        }
      ]
    },
    {
      "cell_type": "markdown",
      "metadata": {
        "id": "maybq2DpTAcx"
      },
      "source": [
        "## Task 8: Generate Names!"
      ]
    },
    {
      "cell_type": "code",
      "execution_count": 80,
      "metadata": {
        "id": "9f50aTRcpt24"
      },
      "outputs": [],
      "source": [
        "def generate_names(seed):\n",
        "    for i in range(0, 40):\n",
        "        seq = name_to_seq(seed)\n",
        "        padded = tf.keras.preprocessing.sequence.pad_sequences([seq],\n",
        "                                                               padding='pre',\n",
        "                                                               maxlen=max_len-1,\n",
        "                                                               truncating='pre')\n",
        "        pred = model.predict(padded, verbose=0)[0]\n",
        "        pred_char = index_to_char[tf.argmax(pred).numpy()]\n",
        "        seed += pred_char\n",
        "\n",
        "        if pred_char == '\\t':\n",
        "            break\n",
        "    print(seed)"
      ]
    },
    {
      "cell_type": "code",
      "execution_count": 109,
      "metadata": {
        "colab": {
          "base_uri": "https://localhost:8080/"
        },
        "id": "faQ0FInlpt26",
        "outputId": "2fa79ea4-ba9c-4b25-a9c0-3883643dcce3"
      },
      "outputs": [
        {
          "output_type": "stream",
          "name": "stdout",
          "text": [
            "supreme inter\t\n"
          ]
        }
      ],
      "source": [
        "generate_names('supr')"
      ]
    },
    {
      "cell_type": "code",
      "source": [
        "import pickle as pkl"
      ],
      "metadata": {
        "id": "xrnW8Mi-d0uQ"
      },
      "execution_count": 110,
      "outputs": []
    },
    {
      "cell_type": "code",
      "source": [
        "with open('model.pkl', 'wb') as file:\n",
        "    pkl.dump(model, file)\n",
        "\n",
        "with open('index_to_char.pkl', 'wb') as file:\n",
        "    pkl.dump(index_to_char, file)"
      ],
      "metadata": {
        "id": "Pz2RGpKte34b"
      },
      "execution_count": 111,
      "outputs": []
    },
    {
      "cell_type": "code",
      "source": [],
      "metadata": {
        "id": "OyqgnydwfOYz"
      },
      "execution_count": null,
      "outputs": []
    }
  ],
  "metadata": {
    "accelerator": "GPU",
    "colab": {
      "provenance": []
    },
    "kernelspec": {
      "display_name": "Python 3",
      "language": "python",
      "name": "python3"
    },
    "language_info": {
      "codemirror_mode": {
        "name": "ipython",
        "version": 3
      },
      "file_extension": ".py",
      "mimetype": "text/x-python",
      "name": "python",
      "nbconvert_exporter": "python",
      "pygments_lexer": "ipython3",
      "version": "3.8.3"
    }
  },
  "nbformat": 4,
  "nbformat_minor": 0
}