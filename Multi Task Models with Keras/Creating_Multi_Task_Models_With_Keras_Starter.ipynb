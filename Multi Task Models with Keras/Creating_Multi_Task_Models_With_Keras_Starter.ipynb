{
  "nbformat": 4,
  "nbformat_minor": 0,
  "metadata": {
    "kernelspec": {
      "display_name": "Python 3",
      "language": "python",
      "name": "python3"
    },
    "language_info": {
      "codemirror_mode": {
        "name": "ipython",
        "version": 3
      },
      "file_extension": ".py",
      "mimetype": "text/x-python",
      "name": "python",
      "nbconvert_exporter": "python",
      "pygments_lexer": "ipython3",
      "version": "3.8.5"
    },
    "colab": {
      "provenance": []
    },
    "accelerator": "GPU"
  },
  "cells": [
    {
      "cell_type": "markdown",
      "metadata": {
        "id": "jKIdV8hoVX5F"
      },
      "source": [
        "## Task 1: Introduction\n",
        "\n",
        "Starter notebook for the Coursera Guided Project [Creating Multi Task Models With Keras](https://www.coursera.org/projects/multi-task-models-keras)"
      ]
    },
    {
      "cell_type": "code",
      "metadata": {
        "id": "JM_cJ0ayVX5M"
      },
      "source": [
        "%matplotlib inline\n",
        "%load_ext tensorboard\n",
        "\n",
        "import tensorflow as tf\n",
        "import numpy as np\n",
        "import matplotlib.pyplot as plt\n",
        "import shutil\n",
        "\n",
        "try:\n",
        "  shutil.rmtree('logs')\n",
        "except:\n",
        "  pass"
      ],
      "execution_count": 1,
      "outputs": []
    },
    {
      "cell_type": "markdown",
      "metadata": {
        "id": "QiIPp2H0VX5N"
      },
      "source": [
        "## Task 2: Create Dataset"
      ]
    },
    {
      "cell_type": "code",
      "metadata": {
        "id": "QovZqtGiVX5P",
        "outputId": "5180ba42-0af6-4b5d-8de1-1ba200fa3a61",
        "colab": {
          "base_uri": "https://localhost:8080/"
        }
      },
      "source": [
        "(X_train, y_train), (X_test, y_test) = tf.keras.datasets.mnist.load_data()\n",
        "\n",
        "print(X_train.shape, X_test.shape)\n",
        "print(y_train.shape, y_test.shape)"
      ],
      "execution_count": 2,
      "outputs": [
        {
          "output_type": "stream",
          "name": "stdout",
          "text": [
            "Downloading data from https://storage.googleapis.com/tensorflow/tf-keras-datasets/mnist.npz\n",
            "11490434/11490434 [==============================] - 0s 0us/step\n",
            "(60000, 28, 28) (10000, 28, 28)\n",
            "(60000,) (10000,)\n"
          ]
        }
      ]
    },
    {
      "cell_type": "code",
      "metadata": {
        "id": "8RZZS1NoVX5P"
      },
      "source": [
        "def create_example(X, y):\n",
        "    c = np.random.randint(0, 3)\n",
        "    image = 0.5 * np.random.rand(28, 28, 3)\n",
        "    image[:, :, c] += 0.5 * X / 255.\n",
        "    return image, y, c"
      ],
      "execution_count": 17,
      "outputs": []
    },
    {
      "cell_type": "code",
      "metadata": {
        "id": "F5t-OsIpVX5Q",
        "outputId": "69f8ccba-ae27-44da-ee33-5fdecda2a962",
        "colab": {
          "base_uri": "https://localhost:8080/",
          "height": 448
        }
      },
      "source": [
        "colors = {0: 'red',\n",
        "          1: 'green',\n",
        "          2: 'blue'}\n",
        "\n",
        "X, y, c = create_example(X_train[23], y_train[23])\n",
        "print(f'digit: {y}, color: {colors[c]}')\n",
        "\n",
        "plt.imshow(X)\n",
        "plt.show()"
      ],
      "execution_count": 18,
      "outputs": [
        {
          "output_type": "stream",
          "name": "stdout",
          "text": [
            "digit: 1, color: green\n"
          ]
        },
        {
          "output_type": "display_data",
          "data": {
            "text/plain": [
              "<Figure size 640x480 with 1 Axes>"
            ],
            "image/png": "[encoded data removed]"
          },
          "metadata": {}
        }
      ]
    },
    {
      "cell_type": "markdown",
      "metadata": {
        "id": "bzzPlFteVX5Q"
      },
      "source": [
        "## Task 3: Dataset Generator"
      ]
    },
    {
      "cell_type": "code",
      "metadata": {
        "id": "FflkdksnVX5R"
      },
      "source": [
        "def generate_data(x, y, batch_size=32):\n",
        "    num_examples = len(y)\n",
        "\n",
        "    while True:\n",
        "        x_batch = np.zeros((batch_size, 28, 28, 3))\n",
        "        y_batch = np.zeros((batch_size, ))\n",
        "        c_batch = np.zeros((batch_size, ))\n",
        "\n",
        "        for i in range(0, batch_size):\n",
        "            index = np.random.randint(0, num_examples)\n",
        "            image, digit, color = create_example(x[index], y[index])\n",
        "            x_batch[i] = image\n",
        "            y_batch[i] = digit\n",
        "            c_batch[i] = color\n",
        "\n",
        "        yield x_batch, [y_batch, c_batch]"
      ],
      "execution_count": 19,
      "outputs": []
    },
    {
      "cell_type": "code",
      "source": [
        "x, [y, c] = next(generate_data(X_test, y_test, batch_size=1))\n",
        "\n",
        "print(y, c)\n",
        "plt.imshow(X)"
      ],
      "metadata": {
        "id": "Kf6edh4iaC7-",
        "outputId": "c6675ab3-d447-4015-e629-c15a87f300b5",
        "colab": {
          "base_uri": "https://localhost:8080/",
          "height": 466
        }
      },
      "execution_count": 22,
      "outputs": [
        {
          "output_type": "stream",
          "name": "stdout",
          "text": [
            "[6.] [0.]\n"
          ]
        },
        {
          "output_type": "execute_result",
          "data": {
            "text/plain": [
              "<matplotlib.image.AxesImage at 0x7fe6e89e17b0>"
            ]
          },
          "metadata": {},
          "execution_count": 22
        },
        {
          "output_type": "display_data",
          "data": {
            "text/plain": [
              "<Figure size 640x480 with 1 Axes>"
            ],
            "image/png": "[encoded data removed]"
          },
          "metadata": {}
        }
      ]
    },
    {
      "cell_type": "markdown",
      "metadata": {
        "id": "yQDBRzzoVX5R"
      },
      "source": [
        "## Task 4: Create Model"
      ]
    },
    {
      "cell_type": "code",
      "metadata": {
        "id": "TJJ9Bj86VX5R",
        "outputId": "a3de0245-6224-4a20-c8e6-dfdbc66613a4",
        "colab": {
          "base_uri": "https://localhost:8080/",
          "height": 1000
        }
      },
      "source": [
        "input = tf.keras.layers.Input(shape=(28, 28, 3), name='input')\n",
        "\n",
        "conv_1 = tf.keras.layers.Conv2D(32, 3,\n",
        "                                name='conv_1')(input)\n",
        "act_1 = tf.keras.layers.Activation('relu', name='act_1')(conv_1)\n",
        "pool_1 = tf.keras.layers.MaxPooling2D(4, name='pool_1')(act_1)\n",
        "flat_1 = tf.keras.layers.Flatten(name='flat_1')(pool_1)\n",
        "\n",
        "color = tf.keras.layers.Dense(1, activation='sigmoid', name='color')(flat_1)\n",
        "\n",
        "\n",
        "conv_2 = tf.keras.layers.Conv2D(32, 3,\n",
        "                                padding='same',\n",
        "                                name='conv_2')(act_1)\n",
        "act_2 = tf.keras.layers.Activation('relu', name='act_2')(conv_2)\n",
        "\n",
        "conv_3 = tf.keras.layers.Conv2D(32, 3,\n",
        "                                padding='same',\n",
        "                                name='conv_3')(act_2)\n",
        "add = tf.keras.layers.Add(name='add')([act_1, conv_3])\n",
        "act_3 = tf.keras.layers.Activation('relu', name='act_3')(add)\n",
        "pool_2 = tf.keras.layers.MaxPooling2D(4, name='pool_2')(act_3)\n",
        "flat_2 = tf.keras.layers.Flatten(name='flat_2')(pool_2)\n",
        "\n",
        "digit = tf.keras.layers.Dense(10, activation='softmax', name='digit')(flat_2)\n",
        "\n",
        "model = tf.keras.models.Model(inputs=input,\n",
        "                              outputs=[digit, color])\n",
        "\n",
        "model.compile(\n",
        "    loss={\n",
        "        'digit': 'sparse_categorical_crossentropy',\n",
        "        'color': 'binary_crossentropy'\n",
        "    },\n",
        "    optimizer='adam',\n",
        "    metrics=['accuracy']\n",
        ")\n",
        "\n",
        "tf.keras.utils.plot_model(model)"
      ],
      "execution_count": 26,
      "outputs": [
        {
          "output_type": "execute_result",
          "data": {
            "image/png": "[encoded data removed]",
            "text/plain": [
              "<IPython.core.display.Image object>"
            ]
          },
          "metadata": {},
          "execution_count": 26
        }
      ]
    },
    {
      "cell_type": "code",
      "metadata": {
        "id": "agtm1bq3VX5T",
        "outputId": "ff3de8f7-a64c-4881-dca5-769518cefaf3",
        "colab": {
          "base_uri": "https://localhost:8080/"
        }
      },
      "source": [
        "model.summary(expand_nested=True)"
      ],
      "execution_count": 27,
      "outputs": [
        {
          "output_type": "stream",
          "name": "stdout",
          "text": [
            "Model: \"model_1\"\n",
            "__________________________________________________________________________________________________\n",
            " Layer (type)                   Output Shape         Param #     Connected to                     \n",
            "==================================================================================================\n",
            " input (InputLayer)             [(None, 28, 28, 3)]  0           []                               \n",
            "                                                                                                  \n",
            " conv_1 (Conv2D)                (None, 26, 26, 32)   896         ['input[0][0]']                  \n",
            "                                                                                                  \n",
            " act_1 (Activation)             (None, 26, 26, 32)   0           ['conv_1[0][0]']                 \n",
            "                                                                                                  \n",
            " conv_2 (Conv2D)                (None, 26, 26, 32)   9248        ['act_1[0][0]']                  \n",
            "                                                                                                  \n",
            " act_2 (Activation)             (None, 26, 26, 32)   0           ['conv_2[0][0]']                 \n",
            "                                                                                                  \n",
            " conv_3 (Conv2D)                (None, 26, 26, 32)   9248        ['act_2[0][0]']                  \n",
            "                                                                                                  \n",
            " add (Add)                      (None, 26, 26, 32)   0           ['act_1[0][0]',                  \n",
            "                                                                  'conv_3[0][0]']                 \n",
            "                                                                                                  \n",
            " act_3 (Activation)             (None, 26, 26, 32)   0           ['add[0][0]']                    \n",
            "                                                                                                  \n",
            " pool_2 (MaxPooling2D)          (None, 6, 6, 32)     0           ['act_3[0][0]']                  \n",
            "                                                                                                  \n",
            " pool_1 (MaxPooling2D)          (None, 6, 6, 32)     0           ['act_1[0][0]']                  \n",
            "                                                                                                  \n",
            " flat_2 (Flatten)               (None, 1152)         0           ['pool_2[0][0]']                 \n",
            "                                                                                                  \n",
            " flat_1 (Flatten)               (None, 1152)         0           ['pool_1[0][0]']                 \n",
            "                                                                                                  \n",
            " digit (Dense)                  (None, 10)           11530       ['flat_2[0][0]']                 \n",
            "                                                                                                  \n",
            " color (Dense)                  (None, 1)            1153        ['flat_1[0][0]']                 \n",
            "                                                                                                  \n",
            "==================================================================================================\n",
            "Total params: 32,075\n",
            "Trainable params: 32,075\n",
            "Non-trainable params: 0\n",
            "__________________________________________________________________________________________________\n"
          ]
        }
      ]
    },
    {
      "cell_type": "markdown",
      "metadata": {
        "id": "Aa6yAsj-VX5U"
      },
      "source": [
        "## Task 5: Training the Model"
      ]
    },
    {
      "cell_type": "code",
      "metadata": {
        "id": "hDEFFWKGVX5U"
      },
      "source": [
        "class Logger(tf.keras.callbacks.Callback):\n",
        "  def on_epoch_end(self, epoch, logs=None):\n",
        "    digit_accuracy = logs.get('digit_accuracy')\n",
        "    color_accuracy = logs.get('color_accuracy')\n",
        "    val_digit_accuracy = logs.get('val_digit_accuracy')\n",
        "    val_color_accuracy = logs.get('val_color_accuracy')\n",
        "    print('='*30, epoch + 1, '='*30)\n",
        "    print(f'digit_accuracy: {digit_accuracy:.2f}, color_accuracy: {color_accuracy:.2f}')\n",
        "    print(f'val_digit_accuracy: {val_digit_accuracy:.2f}, val_color_accuracy: {val_color_accuracy:.2f}')"
      ],
      "execution_count": 28,
      "outputs": []
    },
    {
      "cell_type": "code",
      "metadata": {
        "id": "q92Hm71DVX5V",
        "outputId": "fe6e1cca-3eb4-485d-f727-545475315df9",
        "colab": {
          "base_uri": "https://localhost:8080/"
        }
      },
      "source": [
        "train_gen = generate_data(X_train, y_train)\n",
        "test_gen = generate_data(X_test, y_test)\n",
        "\n",
        "_ = model.fit(\n",
        "    train_gen,\n",
        "    validation_data=test_gen,\n",
        "    steps_per_epoch=200,\n",
        "    validation_steps=100,\n",
        "    epochs=10,\n",
        "    callbacks=[\n",
        "        Logger(),\n",
        "        tf.keras.callbacks.TensorBoard(log_dir='./logs')\n",
        "    ],\n",
        "    verbose=False\n",
        ")"
      ],
      "execution_count": 30,
      "outputs": [
        {
          "output_type": "stream",
          "name": "stdout",
          "text": [
            "============================== 1 ==============================\n",
            "digit_accuracy: 0.48, color_accuracy: 0.33\n",
            "val_digit_accuracy: 0.79, val_color_accuracy: 0.34\n",
            "============================== 2 ==============================\n",
            "digit_accuracy: 0.83, color_accuracy: 0.33\n",
            "val_digit_accuracy: 0.86, val_color_accuracy: 0.33\n",
            "============================== 3 ==============================\n",
            "digit_accuracy: 0.88, color_accuracy: 0.33\n",
            "val_digit_accuracy: 0.90, val_color_accuracy: 0.33\n",
            "============================== 4 ==============================\n",
            "digit_accuracy: 0.90, color_accuracy: 0.33\n",
            "val_digit_accuracy: 0.92, val_color_accuracy: 0.34\n",
            "============================== 5 ==============================\n",
            "digit_accuracy: 0.91, color_accuracy: 0.32\n",
            "val_digit_accuracy: 0.90, val_color_accuracy: 0.33\n",
            "============================== 6 ==============================\n",
            "digit_accuracy: 0.91, color_accuracy: 0.33\n",
            "val_digit_accuracy: 0.92, val_color_accuracy: 0.32\n",
            "============================== 7 ==============================\n",
            "digit_accuracy: 0.92, color_accuracy: 0.33\n",
            "val_digit_accuracy: 0.93, val_color_accuracy: 0.33\n",
            "============================== 8 ==============================\n",
            "digit_accuracy: 0.92, color_accuracy: 0.33\n",
            "val_digit_accuracy: 0.93, val_color_accuracy: 0.33\n",
            "============================== 9 ==============================\n",
            "digit_accuracy: 0.93, color_accuracy: 0.33\n",
            "val_digit_accuracy: 0.94, val_color_accuracy: 0.33\n",
            "============================== 10 ==============================\n",
            "digit_accuracy: 0.93, color_accuracy: 0.33\n",
            "val_digit_accuracy: 0.92, val_color_accuracy: 0.33\n"
          ]
        }
      ]
    },
    {
      "cell_type": "code",
      "metadata": {
        "id": "Uw2cUj9dVX5V"
      },
      "source": [
        "%tensorboard --logdir logs"
      ],
      "execution_count": null,
      "outputs": []
    },
    {
      "cell_type": "markdown",
      "metadata": {
        "id": "SatoHJXuVX5V"
      },
      "source": [
        "## Task 6: Final Predictions"
      ]
    },
    {
      "cell_type": "code",
      "metadata": {
        "id": "FB2VxmrpVX5V"
      },
      "source": [
        "def test_model(show=True):\n",
        "  x, [y, c] = next(test)\n",
        "  \n",
        "  preds = model.predict(x)\n",
        "  pred_digit = np.argmax(preds[0])\n",
        "  pred_color = int(preds[1] > 0.5)\n",
        "  gt_digit = int(y[0])\n",
        "  gt_color = int(c[0])\n",
        "  \n",
        "  plt.imshow(x[0])\n",
        "  if show:\n",
        "    print(f'GT: {gt_digit}, {colors[gt_color]}')\n",
        "    print(f'Pr: {pred_digit}, {colors[pred_color]}')\n",
        "    plt.show()\n",
        "  else:\n",
        "    col = 'green' if gt_digit == pred_digit and gt_color == pred_color else 'red'\n",
        "    plt.ylabel(f'GT: {gt_digit}, {colors[gt_color]}', color=col)\n",
        "    plt.xlabel(f'Pr: {pred_digit}, {colors[pred_color]}', color=col)\n",
        "    plt.xticks([])\n",
        "    plt.yticks([])\n",
        "\n",
        "\n",
        "test = generate_data(X_test, y_test, batch_size=1)"
      ],
      "execution_count": 32,
      "outputs": []
    },
    {
      "cell_type": "code",
      "metadata": {
        "id": "TosHWUfsVX5V",
        "outputId": "a919e008-de81-4a69-ceb2-d784bee923e4",
        "colab": {
          "base_uri": "https://localhost:8080/",
          "height": 484
        }
      },
      "source": [
        "test_model()"
      ],
      "execution_count": 37,
      "outputs": [
        {
          "output_type": "stream",
          "name": "stdout",
          "text": [
            "1/1 [==============================] - 0s 26ms/step\n",
            "GT: 3, blue\n",
            "Pr: 3, green\n"
          ]
        },
        {
          "output_type": "display_data",
          "data": {
            "text/plain": [
              "<Figure size 640x480 with 1 Axes>"
            ],
            "image/png": "[encoded data removed]"
          },
          "metadata": {}
        }
      ]
    },
    {
      "cell_type": "code",
      "metadata": {
        "id": "7EG78TwdVX5W",
        "outputId": "9d05eb32-ee32-4611-929c-2771135bd20f",
        "colab": {
          "base_uri": "https://localhost:8080/"
        }
      },
      "source": [
        "x, [y, c] = next(train_gen)\n",
        "print(c)"
      ],
      "execution_count": 46,
      "outputs": [
        {
          "output_type": "stream",
          "name": "stdout",
          "text": [
            "[1. 1. 0. 0. 1. 2. 1. 1. 0. 0. 2. 2. 2. 1. 1. 0. 0. 1. 1. 2. 2. 0. 0. 0.\n",
            " 2. 2. 1. 0. 2. 1. 1. 0.]\n"
          ]
        }
      ]
    },
    {
      "cell_type": "code",
      "source": [
        "plt.figure(figsize=(12, 12))\n",
        "for i in range(0, 16):\n",
        "    plt.subplot(4, 4, i+1)\n",
        "    test_model(show=False)\n",
        "plt.show()"
      ],
      "metadata": {
        "id": "EMWZ4YthfLna"
      },
      "execution_count": null,
      "outputs": []
    },
    {
      "cell_type": "code",
      "source": [],
      "metadata": {
        "id": "iBoQ_Xd0fq6G"
      },
      "execution_count": null,
      "outputs": []
    }
  ]
}